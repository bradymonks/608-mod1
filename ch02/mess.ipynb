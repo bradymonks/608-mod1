{
 "cells": [
  {
   "cell_type": "code",
   "execution_count": null,
   "metadata": {},
   "outputs": [],
   "source": [
    "## Brady Monks\n",
    "\"\"\" Determining the amount of siblings and ages of them. \"\"\"\n",
    "\n",
    "num = int(input(\"How many siblings do you have?\"))\n",
    "own_age = int(input(\"How old are you?\"))\n",
    "\n",
    "if num > 1:\n",
    "    q = input(\"Are you the oldest(o), youngest(y), or between (b)?\")\n",
    "    if q == 'o': \n",
    "        ages = input(\"What are the ages of your siblings?(answer like: #,#,##,##,etc.)\")\n",
    "        ages_list = ages.split(\",\")\n",
    "        for i in range(0,len(ages_list)):\n",
    "            ages_list[i] = int(ages_list[i])\n",
    "        oldest = max(ages_list)\n",
    "        youngest = min(ages_list)\n",
    "        print(\"You have\",num,\"siblings.You are the oldest at\",own_age,\"and the youngest is\",youngest,\".\")\n",
    "    if q == 'y':\n",
    "        ages = input(\"What are the ages of your siblings?(answer like: #,#,##,##,etc.)\")\n",
    "        ages_list = ages.split(\",\")\n",
    "        for i in range(0,len(ages_list)):\n",
    "            ages_list[i] = int(ages_list[i])\n",
    "        oldest = max(ages_list)\n",
    "        youngest = min(ages_list)\n",
    "        print(\"You have\",num,\"siblings.The oldest is\",oldest,\"and and you are the youngest at\",own_age,\".\")\n",
    "    if q == 'b':\n",
    "        ages = input(\"What are the ages of your siblings?(answer like: #,#,##,##,etc.)\")\n",
    "        ages_list = ages.split(\",\")\n",
    "        for i in range(0,len(ages_list)):\n",
    "            ages_list[i] = int(ages_list[i])\n",
    "        oldest = max(ages_list)\n",
    "        youngest = min(ages_list)\n",
    "        print(\"You have\",num,\"siblings.The oldest is\",oldest,\"and the youngest is\",youngest,\n",
    "              \". You are in the middle at\",own_age,\". You are\",oldest - own_age,\"years younger than the oldest\",\n",
    "             \"and\",own_age - youngest,\"years older than the youngest.\")  \n",
    "if num == 1:\n",
    "    q = input(\"Are you older than them? [y/n]\")\n",
    "    if q == 'y':\n",
    "        age = int(input(\"How old is your sibling?\"))\n",
    "        diff = own_age - age\n",
    "        print(\"You have one sibling and they are\",age,\"year(1) old, which is\",diff,\"younger than you.\")\n",
    "    \n",
    "    if q == 'n':\n",
    "        age = int(input(\"How old is your sibling?\"))\n",
    "        diff = age - own_age\n",
    "        print(\"You have one sibling and they are\",age,\"years old, which is\",diff,\"younger than you.\")\n",
    "if num == 0:\n",
    "    print(\"You are\",own_age,\"years old and an only child. Siblings maybe one day, right?\")"
   ]
  },
  {
   "cell_type": "code",
   "execution_count": null,
   "metadata": {},
   "outputs": [],
   "source": []
  }
 ],
 "metadata": {
  "kernelspec": {
   "display_name": "Python 3",
   "language": "python",
   "name": "python3"
  },
  "language_info": {
   "codemirror_mode": {
    "name": "ipython",
    "version": 3
   },
   "file_extension": ".py",
   "mimetype": "text/x-python",
   "name": "python",
   "nbconvert_exporter": "python",
   "pygments_lexer": "ipython3",
   "version": "3.8.5"
  }
 },
 "nbformat": 4,
 "nbformat_minor": 4
}
