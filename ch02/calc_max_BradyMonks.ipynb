{
 "cells": [
  {
   "cell_type": "code",
   "execution_count": 4,
   "metadata": {},
   "outputs": [
    {
     "name": "stdin",
     "output_type": "stream",
     "text": [
      "Enter first integer:  48\n",
      "Enter second integer:  85\n",
      "Enter third integer:  61\n"
     ]
    },
    {
     "name": "stdout",
     "output_type": "stream",
     "text": [
      "Maximum value is: 85\n"
     ]
    }
   ],
   "source": [
    "## Brady Monks\n",
    "\"\"\"Find the Max of three values.\"\"\"\n",
    "\n",
    "n1 = int(input('Enter first integer: '))\n",
    "n2 = int(input('Enter second integer: '))\n",
    "n3 = int(input('Enter third integer: '))\n",
    "\n",
    "maximum = n1  \n",
    "\n",
    "if n2 > maximum:\n",
    "    maximum = n2\n",
    "\n",
    "if n3 > maximum:\n",
    "    maximum = n3\n",
    "\n",
    "print('Maximum value is:', maximum)"
   ]
  },
  {
   "cell_type": "code",
   "execution_count": null,
   "metadata": {},
   "outputs": [],
   "source": []
  }
 ],
 "metadata": {
  "kernelspec": {
   "display_name": "Python 3",
   "language": "python",
   "name": "python3"
  },
  "language_info": {
   "codemirror_mode": {
    "name": "ipython",
    "version": 3
   },
   "file_extension": ".py",
   "mimetype": "text/x-python",
   "name": "python",
   "nbconvert_exporter": "python",
   "pygments_lexer": "ipython3",
   "version": "3.8.5"
  }
 },
 "nbformat": 4,
 "nbformat_minor": 4
}
