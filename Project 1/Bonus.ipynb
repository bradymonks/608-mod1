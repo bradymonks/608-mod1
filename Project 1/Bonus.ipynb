{
 "cells": [
  {
   "cell_type": "code",
   "execution_count": 2,
   "metadata": {},
   "outputs": [
    {
     "name": "stdin",
     "output_type": "stream",
     "text": [
      "How many siblings do you have? 4\n",
      "How old are you? 14\n",
      "Are you the oldest(o), youngest(y), or between (b)? b\n",
      "What are the ages of your siblings?(answer like: #,#,##,##,etc.) 11,13,19,1\n"
     ]
    },
    {
     "name": "stdout",
     "output_type": "stream",
     "text": [
      "You have 4 siblings.The oldest is 19 and the youngest is 1 . You are in the middle at 14 . You are 5 years younger than the oldest and 13 years older than the youngest.\n"
     ]
    }
   ],
   "source": [
    "## Brady Monks\n",
    "\"\"\" Determining the amount of siblings and ages of them. \"\"\"\n",
    "\n",
    "num = int(input(\"How many siblings do you have?\"))\n",
    "own_age = int(input(\"How old are you?\"))\n",
    "\n",
    "if num > 1:\n",
    "    \n",
    "    q = input(\"Are you the oldest(o), youngest(y), or between (b)?\")\n",
    "    \n",
    "    if q == 'o': \n",
    "        ages = input(\"What are the ages of your siblings?(answer like: #,#,##,##,etc.)\")\n",
    "        ages_list = ages.split(\",\")\n",
    "        for i in range(0,len(ages_list)):\n",
    "            ages_list[i] = int(ages_list[i])\n",
    "        oldest = max(ages_list)\n",
    "        youngest = min(ages_list)\n",
    "        print(\"You have\",num,\"siblings.You are the oldest at\",own_age,\"and the youngest is\",youngest,\".\")\n",
    "    \n",
    "    if q == 'y':\n",
    "        ages = input(\"What are the ages of your siblings?(answer like: #,#,##,##,etc.)\")\n",
    "        ages_list = ages.split(\",\")\n",
    "        for i in range(0,len(ages_list)):\n",
    "            ages_list[i] = int(ages_list[i])\n",
    "        oldest = max(ages_list)\n",
    "        youngest = min(ages_list)\n",
    "        print(\"You have\",num,\"siblings.The oldest is\",oldest,\"and and you are the youngest at\",own_age,\".\")\n",
    "    \n",
    "    if q == 'b':\n",
    "        ages = input(\"What are the ages of your siblings?(answer like: #,#,##,##,etc.)\")\n",
    "        ages_list = ages.split(\",\")\n",
    "        for i in range(0,len(ages_list)):\n",
    "            ages_list[i] = int(ages_list[i])\n",
    "        oldest = max(ages_list)\n",
    "        youngest = min(ages_list)\n",
    "        print(\"You have\",num,\"siblings.The oldest is\",oldest,\"and the youngest is\",youngest,\n",
    "              \". You are in the middle at\",own_age,\". You are\",oldest - own_age,\"years younger than the oldest\",\n",
    "             \"and\",own_age - youngest,\"years older than the youngest.\")\n",
    "    \n",
    "if num == 1:\n",
    "    q = input(\"Are you older than them? [y/n]\")\n",
    "    if q == 'y':\n",
    "        age = int(input(\"How old is your sibling?\"))\n",
    "        diff = own_age - age\n",
    "        print(\"You have one sibling and they are\",age,\"years old, which is\",diff,\"younger than you.\")\n",
    "    \n",
    "    if q == 'n':\n",
    "        age = int(input(\"How old is your sibling?\"))\n",
    "        diff = age - own_age\n",
    "        print(\"You have one sibling and they are\",age,\"years old, which is\",diff,\"younger than you.\")\n",
    "## Brady Monks"
   ]
  },
  {
   "cell_type": "code",
   "execution_count": null,
   "metadata": {},
   "outputs": [],
   "source": []
  }
 ],
 "metadata": {
  "kernelspec": {
   "display_name": "Python 3",
   "language": "python",
   "name": "python3"
  },
  "language_info": {
   "codemirror_mode": {
    "name": "ipython",
    "version": 3
   },
   "file_extension": ".py",
   "mimetype": "text/x-python",
   "name": "python",
   "nbconvert_exporter": "python",
   "pygments_lexer": "ipython3",
   "version": "3.8.5"
  }
 },
 "nbformat": 4,
 "nbformat_minor": 4
}
